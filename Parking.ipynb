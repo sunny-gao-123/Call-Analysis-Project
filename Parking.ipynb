{
 "cells": [
  {
   "cell_type": "markdown",
   "id": "8bda3e27",
   "metadata": {},
   "source": [
    "analyze whether illegal parking incidents are a larger fraction of total 311 incidents in your ZIP code than they are in general. Specifically, compute the total number of parking incidents in your ZIP, and the total number of all incidents -- is this fraction greater than or smaller than the total fraction of parking incidents across all ZIP codes? Your answer should be in the form of a single bool called `higher_parking_proportion` which is True if your ZIP contains a higher proportion of parking incidents than the global value, and False otherwise. For instance, if there were 200 parking incidents in your ZIP, and 1000 total incidents in your ZIP, a rate of 20%, but the global parking incident rate was 3000 parking incidents out of 10000 total, a ratio of 30%, you would assign higher_parking_proportion = False.\n"
   ]
  },
  {
   "cell_type": "code",
   "execution_count": 1,
   "id": "06775729",
   "metadata": {},
   "outputs": [
    {
     "name": "stderr",
     "output_type": "stream",
     "text": [
      "/Users/apple/opt/anaconda3/lib/python3.7/site-packages/IPython/core/interactiveshell.py:3437: DtypeWarning: Columns (20,31,32) have mixed types.Specify dtype option on import or set low_memory=False.\n",
      "  exec(code_obj, self.user_global_ns, self.user_ns)\n"
     ]
    }
   ],
   "source": [
    "import pandas as pd\n",
    "df = pd.read_csv ('311_Service_Requests_2020.csv')"
   ]
  },
  {
   "cell_type": "code",
   "execution_count": 3,
   "id": "ea7f4e11",
   "metadata": {},
   "outputs": [
    {
     "name": "stdout",
     "output_type": "stream",
     "text": [
      "<class 'pandas.core.frame.DataFrame'>\n",
      "RangeIndex: 2587316 entries, 0 to 2587315\n",
      "Data columns (total 41 columns):\n",
      " #   Column                          Dtype  \n",
      "---  ------                          -----  \n",
      " 0   Unique Key                      int64  \n",
      " 1   Created Date                    object \n",
      " 2   Closed Date                     object \n",
      " 3   Agency                          object \n",
      " 4   Agency Name                     object \n",
      " 5   Complaint Type                  object \n",
      " 6   Descriptor                      object \n",
      " 7   Location Type                   object \n",
      " 8   Incident Zip                    float64\n",
      " 9   Incident Address                object \n",
      " 10  Street Name                     object \n",
      " 11  Cross Street 1                  object \n",
      " 12  Cross Street 2                  object \n",
      " 13  Intersection Street 1           object \n",
      " 14  Intersection Street 2           object \n",
      " 15  Address Type                    object \n",
      " 16  City                            object \n",
      " 17  Landmark                        object \n",
      " 18  Facility Type                   object \n",
      " 19  Status                          object \n",
      " 20  Due Date                        object \n",
      " 21  Resolution Description          object \n",
      " 22  Resolution Action Updated Date  object \n",
      " 23  Community Board                 object \n",
      " 24  BBL                             float64\n",
      " 25  Borough                         object \n",
      " 26  X Coordinate (State Plane)      float64\n",
      " 27  Y Coordinate (State Plane)      float64\n",
      " 28  Open Data Channel Type          object \n",
      " 29  Park Facility Name              object \n",
      " 30  Park Borough                    object \n",
      " 31  Vehicle Type                    object \n",
      " 32  Taxi Company Borough            object \n",
      " 33  Taxi Pick Up Location           object \n",
      " 34  Bridge Highway Name             object \n",
      " 35  Bridge Highway Direction        object \n",
      " 36  Road Ramp                       object \n",
      " 37  Bridge Highway Segment          object \n",
      " 38  Latitude                        float64\n",
      " 39  Longitude                       float64\n",
      " 40  Location                        object \n",
      "dtypes: float64(6), int64(1), object(34)\n",
      "memory usage: 809.3+ MB\n"
     ]
    }
   ],
   "source": [
    "df.info()"
   ]
  },
  {
   "cell_type": "code",
   "execution_count": 6,
   "id": "04fd6c00",
   "metadata": {},
   "outputs": [],
   "source": [
    "def fix_zip(input_zip):\n",
    "    try:\n",
    "        input_zip = int(float(input_zip))\n",
    "    except:\n",
    "        pass\n",
    "    return str(input_zip)"
   ]
  },
  {
   "cell_type": "code",
   "execution_count": 7,
   "id": "316a4919",
   "metadata": {},
   "outputs": [],
   "source": [
    "df['Incident Zip'] = df['Incident Zip'].apply(fix_zip)"
   ]
  },
  {
   "cell_type": "code",
   "execution_count": 9,
   "id": "1427636b",
   "metadata": {},
   "outputs": [
    {
     "data": {
      "text/plain": [
       "array(['11229', '10458', '11203', '11214', '11385', '11225', '11421',\n",
       "       '10455', '11215', '11210', '10468', '10025', '11103', '11222',\n",
       "       '10016', '11206', '11221', '11238', '11223', '11219', '10465',\n",
       "       '10040', '11228', '10472', '11373', '10463', '10031', '10460',\n",
       "       '11217', '10012', '10002', '10466', '11209', '11237', '10034',\n",
       "       '11220', '10456', '11235', '10470', '10013', '10452', '11420',\n",
       "       '11230', '10017', '11378', '10464', '10173', '11212', '11231',\n",
       "       '10033', '11218', '10462', '10003', '11226', '11423', '11361',\n",
       "       '11236', '11366', '10009', '11372', '10309', '11368', '11201',\n",
       "       '11432', '11691', '11204', '10039', '11375', '11233', '10312',\n",
       "       '10024', '11365', '11370', '10029', '11358', '10471', '10314',\n",
       "       '11207', '10022', '10032', '11356', '10014', '11213', '10026',\n",
       "       '10453', '11419', '10459', '11105', '10461', '11211', '11357',\n",
       "       '11434', '11428', '10473', '10037', '11426', '10307', '11377',\n",
       "       '10128', '10305', '10306', '11354', '10451', '10467', 'nan',\n",
       "       '10010', '10028', '11208', '10457', '10038', '10027', '11104',\n",
       "       '11224', '11379', '10310', '11418', '11369', '11414', '11422',\n",
       "       '11249', '11360', '11364', '11232', '11205', '11415', '11106',\n",
       "       '10011', '11102', '10021', '10007', '10469', '11412', '11234',\n",
       "       '10075', '10454', '11374', '11435', '10035', '10004', '11216',\n",
       "       '10030', '11694', '11413', '10036', '10303', '10302', '10475',\n",
       "       '10304', '11417', '11101', '10282', '11692', '10023', '11433',\n",
       "       '10018', '11693', '11362', '10301', '11367', '10065', '11416',\n",
       "       '10019', '11239', '11430', '10001', '10121', '10105', '11355',\n",
       "       '10308', '10279', '11004', '11436', '10005', '10474', '11411',\n",
       "       '11427', '10044', '10119', '11371', '11429', '10169', '11363',\n",
       "       '10177', '11040', '11359', '10000', '10006', '10178', '10280',\n",
       "       '11001', '10174', '10069', '11109', '11697', '11005', '10020',\n",
       "       '12345', '10171', '10120', '10278', '10112', '10172', '10281',\n",
       "       '10041', '10168', '11695', '10165', '10162', '10103', '10151',\n",
       "       '11242', '10118', '10152', '10271', '10154', '10155', '10110',\n",
       "       '10045', '10123', '10170', '10166', '11251', '10122', '10158',\n",
       "       '10179', '10111', '10055', '10106', '10176', '11241', '10107',\n",
       "       '10115', '83', '10153', '10167', '10175', '10048'], dtype=object)"
      ]
     },
     "execution_count": 9,
     "metadata": {},
     "output_type": "execute_result"
    }
   ],
   "source": [
    "df['Incident Zip'].unique()"
   ]
  },
  {
   "cell_type": "code",
   "execution_count": 24,
   "id": "938a53ad",
   "metadata": {},
   "outputs": [
    {
     "data": {
      "text/plain": [
       "20978"
      ]
     },
     "execution_count": 24,
     "metadata": {},
     "output_type": "execute_result"
    }
   ],
   "source": [
    "df_10025=df[df['Incident Zip']==\"10025\"]\n",
    "#the total number of incidents in 10025\n",
    "df_10025.shape[0]"
   ]
  },
  {
   "cell_type": "code",
   "execution_count": 22,
   "id": "1452b217",
   "metadata": {},
   "outputs": [
    {
     "data": {
      "text/plain": [
       "792"
      ]
     },
     "execution_count": 22,
     "metadata": {},
     "output_type": "execute_result"
    }
   ],
   "source": [
    "#total number of parking incidents in 10025\n",
    "df_parking_10025=df[(df['Incident Zip']==\"10025\")&(df['Complaint Type']==\"Illegal Parking\")]\n",
    "df_parking_10025.shape[0]"
   ]
  },
  {
   "cell_type": "code",
   "execution_count": 21,
   "id": "a7463bb4",
   "metadata": {},
   "outputs": [
    {
     "data": {
      "text/plain": [
       "2587316"
      ]
     },
     "execution_count": 21,
     "metadata": {},
     "output_type": "execute_result"
    }
   ],
   "source": [
    "#the total number of incidents\n",
    "df.shape[0]"
   ]
  },
  {
   "cell_type": "code",
   "execution_count": 23,
   "id": "5a8547c1",
   "metadata": {},
   "outputs": [
    {
     "data": {
      "text/plain": [
       "193721"
      ]
     },
     "execution_count": 23,
     "metadata": {},
     "output_type": "execute_result"
    }
   ],
   "source": [
    "#the total number of parking incidents\n",
    "df_parking=df[df['Complaint Type']==\"Illegal Parking\"]\n",
    "df_parking.shape[0]"
   ]
  },
  {
   "cell_type": "code",
   "execution_count": 26,
   "id": "0072b5f5",
   "metadata": {},
   "outputs": [
    {
     "data": {
      "text/plain": [
       "False"
      ]
     },
     "execution_count": 26,
     "metadata": {},
     "output_type": "execute_result"
    }
   ],
   "source": [
    "higher_parking_proportion=df_parking_10025.shape[0]/df_10025.shape[0]>df_parking.shape[0]/df.shape[0]\n",
    "higher_parking_proportion"
   ]
  },
  {
   "cell_type": "code",
   "execution_count": null,
   "id": "383e59df",
   "metadata": {},
   "outputs": [],
   "source": []
  }
 ],
 "metadata": {
  "kernelspec": {
   "display_name": "Python 3",
   "language": "python",
   "name": "python3"
  },
  "language_info": {
   "codemirror_mode": {
    "name": "ipython",
    "version": 3
   },
   "file_extension": ".py",
   "mimetype": "text/x-python",
   "name": "python",
   "nbconvert_exporter": "python",
   "pygments_lexer": "ipython3",
   "version": "3.7.11"
  }
 },
 "nbformat": 4,
 "nbformat_minor": 5
}
